{
 "cells": [
  {
   "cell_type": "markdown",
   "id": "95e13b29",
   "metadata": {},
   "source": [
    "# Automatic File Sorter in File Explorer"
   ]
  },
  {
   "cell_type": "code",
   "execution_count": 51,
   "id": "a3f42ba9",
   "metadata": {},
   "outputs": [],
   "source": [
    "import os,shutil"
   ]
  },
  {
   "cell_type": "code",
   "execution_count": 52,
   "id": "96ff9438",
   "metadata": {},
   "outputs": [],
   "source": [
    "path=r\"C:/Users/shriy/OneDrive/Documents/sample folder/\""
   ]
  },
  {
   "cell_type": "code",
   "execution_count": 53,
   "id": "0b8a3b57",
   "metadata": {},
   "outputs": [],
   "source": [
    "file_name=os.listdir(path)"
   ]
  },
  {
   "cell_type": "code",
   "execution_count": 54,
   "id": "c2b6e6d7",
   "metadata": {},
   "outputs": [],
   "source": [
    "folder_names=['text files','python files','pdf files','ppts']\n",
    "\n",
    "for loop in range(0,4):\n",
    "    if not os.path.exists(path+folder_names[loop]):\n",
    "        os.makedirs(path+folder_names[loop])\n",
    "    \n",
    "for file in file_name:\n",
    "    if \".docx\" in file and not os.path.exists(path+\"text files/\"+file):\n",
    "        shutil.move(path+file,path+\"text files/\"+file)\n",
    "    elif \".py\" in file and not os.path.exists(path+\"python files/\"+file):\n",
    "        shutil.move(path+file,path+\"python files/\"+file)\n",
    "    elif \".pdf\" in file and not os.path.exists(path+\"pdf files/\"+file):\n",
    "        shutil.move(path+file,path+\"pdf files/\"+file)\n",
    "    elif \".pptx\" in file and not os.path.exists(path+\"ppts/\"+file):\n",
    "        shutil.move(path+file,path+\"ppts/\"+file)\n",
    "    "
   ]
  },
  {
   "cell_type": "code",
   "execution_count": null,
   "id": "f57d6a32",
   "metadata": {},
   "outputs": [],
   "source": []
  }
 ],
 "metadata": {
  "kernelspec": {
   "display_name": "Python 3 (ipykernel)",
   "language": "python",
   "name": "python3"
  },
  "language_info": {
   "codemirror_mode": {
    "name": "ipython",
    "version": 3
   },
   "file_extension": ".py",
   "mimetype": "text/x-python",
   "name": "python",
   "nbconvert_exporter": "python",
   "pygments_lexer": "ipython3",
   "version": "3.9.7"
  }
 },
 "nbformat": 4,
 "nbformat_minor": 5
}
